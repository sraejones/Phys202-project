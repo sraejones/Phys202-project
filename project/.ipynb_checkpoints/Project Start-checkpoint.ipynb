{
 "cells": [
  {
   "cell_type": "markdown",
   "metadata": {},
   "source": [
    "Neral Networks \n",
    "By Sara Jones"
   ]
  },
  {
   "cell_type": "markdown",
   "metadata": {},
   "source": [
    "Libraries needed"
   ]
  },
  {
   "cell_type": "code",
   "execution_count": 51,
   "metadata": {
    "collapsed": false
   },
   "outputs": [],
   "source": [
    "import numpy as np\n",
    "import math\n",
    "import random\n",
    "import string"
   ]
  },
  {
   "cell_type": "code",
   "execution_count": 52,
   "metadata": {
    "collapsed": false
   },
   "outputs": [],
   "source": [
    "%matplotlib inline\n",
    "import matplotlib.pyplot as plt\n",
    "from IPython.html.widgets import interact"
   ]
  },
  {
   "cell_type": "code",
   "execution_count": 53,
   "metadata": {
    "collapsed": false
   },
   "outputs": [
    {
     "name": "stdout",
     "output_type": "stream",
     "text": [
      "(1797, 64)\n"
     ]
    }
   ],
   "source": [
    "from sklearn.datasets import load_digits\n",
    "digits = load_digits()\n",
    "print(digits.data.shape)"
   ]
  },
  {
   "cell_type": "markdown",
   "metadata": {},
   "source": [
    "Refrance Information"
   ]
  },
  {
   "cell_type": "code",
   "execution_count": 54,
   "metadata": {
    "collapsed": true
   },
   "outputs": [],
   "source": [
    "def show_digit(i):\n",
    "    plt.matshow(digits.images[i]);"
   ]
  },
  {
   "cell_type": "code",
   "execution_count": 55,
   "metadata": {
    "collapsed": false
   },
   "outputs": [
    {
     "data": {
      "image/png": "[encoded data removed]",
      "text/plain": [
       "<matplotlib.figure.Figure at 0x7fe36aee7d30>"
      ]
     },
     "metadata": {},
     "output_type": "display_data"
    }
   ],
   "source": [
    "interact(show_digit, i=(0,100));"
   ]
  },
  {
   "cell_type": "markdown",
   "metadata": {},
   "source": [
    "Start of Neral Network"
   ]
  },
  {
   "cell_type": "code",
   "execution_count": 56,
   "metadata": {
    "collapsed": true
   },
   "outputs": [],
   "source": [
    "\"\"\"Neron for for detrminig what is put in and the weights of certin aspects of the input\"\"\"\n",
    "class Neuron:\n",
    "        def __init__(self, n_inputs ):\n",
    "            self.n_inputs = n_inputs\n",
    "            self.set_weights( [random.uniform(0,1) for x in range(0,n_inputs+1)] )\n",
    "            \n",
    "        def sum(self, inputs ):\n",
    "            return sum(val*self.weights[i] for i,val in enumerate(inputs))\n",
    "\n",
    "        def set_weights(self, weights ):\n",
    "            self.weights = weights\n",
    "        \n",
    "        def __str__(self):\n",
    "            return ( str(self.weights[:-1]),str(self.weights[-1]) )     \n",
    "        "
   ]
  },
  {
   "cell_type": "code",
   "execution_count": 57,
   "metadata": {
    "collapsed": true
   },
   "outputs": [],
   "source": [
    "class NeuronLayer:\n",
    "        def __init__(self, n_neurons, n_inputs):\n",
    "            self.n_neurons = n_neurons\n",
    "            self.neurons = [Neuron( n_inputs ) for _ in range(0,self.n_neurons)]\n",
    "\n",
    "        def __str__(self):\n",
    "            return 'Layer:\\n\\t'+'\\n\\t'.join([str(neuron) for neuron in self.neurons])+''"
   ]
  },
  {
   "cell_type": "code",
   "execution_count": 58,
   "metadata": {
    "collapsed": false
   },
   "outputs": [],
   "source": [
    "\"\"\"Training set\"\"\"\n",
    "def learn(self, X, y, learning_rate=0.2, epochs=10000):\n",
    "    X = np.atleast_2d(X)\n",
    "    temp = np.ones([X.shape[0], X.shape[1]+1])\n",
    "    temp[:, 0:-1] = X  \n",
    "    X = temp\n",
    "    y = np.array(y)\n",
    "\n",
    "    for i in range(epochs):\n",
    "        k = np.random.randint(X.shape[0])\n",
    "        a = [X[i]]\n",
    "\n",
    "        for j in range(len(self.weights)):\n",
    "            a.append(self.activation(np.dot(a[j], self.weights[j])))\n",
    "        error = y[i] - a[-1]\n",
    "        deltas = [error * self.activation_deriv(a[-1])]\n",
    "\n",
    "        for i in range(len(a) - 2, 0, -1):\n",
    "            deltas.append(deltas[-1].dot(self.weights[i].T)*self.activation_deriv(a[i]))\n",
    "        deltas.reverse()\n",
    "        \n",
    "        for i in range(len(self.weights)):\n",
    "            layer = np.atleast_2d(a[i])\n",
    "            delta = np.atleast_2d(deltas[i])\n",
    "            self.weights[i] += learning_rate * layer.T.dot(delta)\n"
   ]
  },
  {
   "cell_type": "code",
   "execution_count": 59,
   "metadata": {
    "collapsed": true
   },
   "outputs": [],
   "source": [
    " def guess(self, t):\n",
    "    t = np.array(t)\n",
    "    temp = np.ones(t.shape[0]+1)\n",
    "    temp[0:-1] =t\n",
    "    a = temp\n",
    "    for i in range(0, len(self.weights)):\n",
    "        k = self.activation(np.dot(k, self.weights[i]))\n",
    "        return k"
   ]
  },
  {
   "cell_type": "code",
   "execution_count": null,
   "metadata": {
    "collapsed": false
   },
   "outputs": [],
   "source": []
  },
  {
   "cell_type": "code",
   "execution_count": null,
   "metadata": {
    "collapsed": true
   },
   "outputs": [],
   "source": []
  },
  {
   "cell_type": "code",
   "execution_count": null,
   "metadata": {
    "collapsed": true
   },
   "outputs": [],
   "source": []
  },
  {
   "cell_type": "code",
   "execution_count": null,
   "metadata": {
    "collapsed": true
   },
   "outputs": [],
   "source": []
  }
 ],
 "metadata": {
  "kernelspec": {
   "display_name": "Python 3",
   "language": "python",
   "name": "python3"
  },
  "language_info": {
   "codemirror_mode": {
    "name": "ipython",
    "version": 3
   },
   "file_extension": ".py",
   "mimetype": "text/x-python",
   "name": "python",
   "nbconvert_exporter": "python",
   "pygments_lexer": "ipython3",
   "version": "3.4.0"
  }
 },
 "nbformat": 4,
 "nbformat_minor": 0
}
